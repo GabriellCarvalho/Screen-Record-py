{
 "cells": [
  {
   "cell_type": "code",
   "execution_count": 5,
   "id": "dc94be63",
   "metadata": {},
   "outputs": [],
   "source": [
    "import cv2\n",
    "import numpy as np\n",
    "import pyautogui"
   ]
  },
  {
   "cell_type": "code",
   "execution_count": 6,
   "id": "f0398575",
   "metadata": {},
   "outputs": [],
   "source": [
    "# Resolução da tela\n",
    "screen_size = (1920, 1080)\n",
    "# Define o codificador\n",
    "fourcc = cv2.VideoWriter_fourcc(*'XVID')\n",
    "# Cria o objeto de gravação do video\n",
    "out = cv2.VideoWriter('output.avi', fourcc, 20.0, (screen_size))"
   ]
  },
  {
   "cell_type": "code",
   "execution_count": 7,
   "id": "19fef121",
   "metadata": {},
   "outputs": [],
   "source": [
    "while True:\n",
    "    # Faz uma captura de tela\n",
    "    img = pyautogui.screenshot()\n",
    "    # Converter esses pixels em um array numpy, adequado para funcionar com OpenCV\n",
    "    frame = np.array(img)\n",
    "    # Converte a cor de BGR para RGB\n",
    "    frame = cv2.cvtColor(frame, cv2.COLOR_BGR2RGB)\n",
    "    # Escreve o frame\n",
    "    out.write(frame)\n",
    "    # Mostra o frame\n",
    "    cv2.imshow('screenshot', frame)\n",
    "    # Se o usuário clicar em q, ele sai\n",
    "    if cv2.waitKey(1) == ord('q'):\n",
    "        break\n",
    "\n",
    "cv2.destroyAllWindows()\n",
    "out.release()"
   ]
  }
 ],
 "metadata": {
  "kernelspec": {
   "display_name": "Python 3",
   "language": "python",
   "name": "python3"
  },
  "language_info": {
   "codemirror_mode": {
    "name": "ipython",
    "version": 3
   },
   "file_extension": ".py",
   "mimetype": "text/x-python",
   "name": "python",
   "nbconvert_exporter": "python",
   "pygments_lexer": "ipython3",
   "version": "3.8.8"
  }
 },
 "nbformat": 4,
 "nbformat_minor": 5
}
